{
 "cells": [
  {
   "cell_type": "markdown",
   "metadata": {},
   "source": [
    "# CS5228 Assignment 1a - Clustering (50 Points)"
   ]
  },
  {
   "cell_type": "markdown",
   "metadata": {},
   "source": [
    "Hello everyone, this answer sheet contains some task to practice that you learned in culstering section. There are some code-completion tasks and question-answering tasks in this answer sheet. \n",
    "\n",
    "For code completion task, please write down your answer between sentences that \"your code starts here\" and \"your code end here\". The space between does not reflect reflect the required or expected lines of code :).\n",
    "\n",
    "For answers in plain text, you can refer to [this Markdown guide](https://medium.com/analytics-vidhya/the-ultimate-markdown-guide-for-jupyter-notebook-d5e5abf728fd) to customize the layout (although it shouldn't be needed) \n",
    "\n",
    "**Important:** Remember to save this Jupyter notebook as A1a_YourNameInLumiNUS_YourNUSNETID.ipynb."
   ]
  },
  {
   "cell_type": "markdown",
   "metadata": {},
   "source": [
    "Please also add your nusnet and student id also in the code cell below. We want try some auto-checking to hopefully speed up the grading."
   ]
  },
  {
   "cell_type": "code",
   "execution_count": 1,
   "metadata": {},
   "outputs": [],
   "source": [
    "student_id = 'A0224917B'\n",
    "nusnet_id = 'E0575551'"
   ]
  },
  {
   "cell_type": "markdown",
   "metadata": {},
   "source": [
    "## Setting up the Notebook\n",
    "\n",
    "`%matplotlib notebook` allows to resize and zoom into plots. However, sometimes it's a bit flaky and showing only empty plots. Just give it a try. `%matplotlib inline` should always work."
   ]
  },
  {
   "cell_type": "code",
   "execution_count": 2,
   "metadata": {},
   "outputs": [],
   "source": [
    "#%matplotlib notebook\n",
    "%matplotlib inline"
   ]
  },
  {
   "cell_type": "markdown",
   "metadata": {},
   "source": [
    "The following statements contain all the packages need to complete the notebook."
   ]
  },
  {
   "cell_type": "code",
   "execution_count": 3,
   "metadata": {},
   "outputs": [],
   "source": [
    "import numpy as np\n",
    "import pandas as pd\n",
    "import matplotlib.pyplot as plt\n",
    "\n",
    "from sklearn.datasets import make_blobs\n",
    "\n",
    "# We provide you with some utility methods to plot the data\n",
    "from src.utils import plot_clusters, plot_labeled_data, calculate_sse"
   ]
  },
  {
   "cell_type": "markdown",
   "metadata": {},
   "source": [
    "If you use `%matplotlib inline` should always work, with the commands below you can adjust the default size and resolution of plots as you need."
   ]
  },
  {
   "cell_type": "code",
   "execution_count": 4,
   "metadata": {},
   "outputs": [],
   "source": [
    "plt.rcParams['figure.figsize'] = [10, 8]\n",
    "plt.rcParams['figure.dpi'] = 100"
   ]
  },
  {
   "cell_type": "markdown",
   "metadata": {},
   "source": [
    "## 1. Implementing K-Means (22 Points)\n",
    "\n",
    "Your task is to implement K-Means clustering. But no need to worry, we guide you through this task step by step so you can focus on the key steps of the algorithm."
   ]
  },
  {
   "cell_type": "markdown",
   "metadata": {},
   "source": [
    "### Creating some Toy Data"
   ]
  },
  {
   "cell_type": "code",
   "execution_count": 5,
   "metadata": {},
   "outputs": [
    {
     "data": {
      "image/png": "[encoded data removed]",
      "text/plain": [
       "<Figure size 1000x800 with 1 Axes>"
      ]
     },
     "metadata": {
      "needs_background": "light"
     },
     "output_type": "display_data"
    }
   ],
   "source": [
    "X_kmeans, _ = make_blobs(n_samples=30, centers=3, n_features=2, cluster_std=0.85, random_state=11)\n",
    "\n",
    "plt.figure()\n",
    "plt.scatter(X_kmeans[:,0], X_kmeans[:,1])\n",
    "plt.show()"
   ]
  },
  {
   "cell_type": "markdown",
   "metadata": {},
   "source": [
    "We set k=5 here simply to have value for k for testing your code."
   ]
  },
  {
   "cell_type": "code",
   "execution_count": 6,
   "metadata": {},
   "outputs": [],
   "source": [
    "k = 5"
   ]
  },
  {
   "cell_type": "markdown",
   "metadata": {},
   "source": [
    "### 1.1 Initialization of Centroids (3 Points)\n",
    "\n",
    "As we learned in the lecture, K-Means is rather sensitive to the initialization of the clusters. For this assignment we use a very basic approach: all K centroids are randomly picked from the dataset. It's not ideal will do the trick here, and it's very easy to implement.\n",
    "\n",
    "The mehtod `init_centroids()` should return a list of *k* different data points. Example format for 2d data points and *k=3*:\n",
    "\n",
    "`centroids = [ [2.35, -4.02 ], [0.64, 9.77 ], [ -3.50, 2,91 ] ]`"
   ]
  },
  {
   "cell_type": "code",
   "execution_count": 7,
   "metadata": {},
   "outputs": [
    {
     "name": "stdout",
     "output_type": "stream",
     "text": [
      "[[-5.59888264  3.2171179 ]\n",
      " [-1.40155103  2.60412426]\n",
      " [-5.18562057 -2.38849388]\n",
      " [-0.68161236 -0.09142244]\n",
      " [-2.50153953 -5.60680197]]\n",
      "[-1.2599977  -0.18702064]\n"
     ]
    },
    {
     "data": {
      "text/plain": [
       "range(0, 5)"
      ]
     },
     "execution_count": 7,
     "metadata": {},
     "output_type": "execute_result"
    }
   ],
   "source": [
    "def init_centroids(X, k):\n",
    "    centroids = None\n",
    "    \n",
    "    ### Your code starts here ###############################################################\n",
    "    num_samples, num_dimensions = X.shape\n",
    "    Range_Max = X.max(axis = 0)\n",
    "    Range_Min = X.min(axis = 0)\n",
    "    centroids = np.random.rand(k,num_dimensions)\n",
    "    for i in range(num_dimensions):\n",
    "        centroids[:,i] = Range_Min[i] + centroids[:,i] * (Range_Max[i] - Range_Min[i])\n",
    "    \n",
    "    ### Your code ends here #################################################################\n",
    "    \n",
    "    return centroids\n",
    "\n",
    "\n",
    "#\n",
    "# Example format:\n",
    "#\n",
    "# centroids = [ [2.35, -4.02 ], [0.64, 9.77 ], [ -3.50, 2,91 ] ]\n",
    "#\n",
    "centroids = init_centroids(X_kmeans, k)\n",
    "print(centroids)\n",
    "print(X_kmeans[0])\n",
    "range(k)"
   ]
  },
  {
   "cell_type": "markdown",
   "metadata": {},
   "source": [
    "### 1.2 Cluster Assignment (4 Points)\n",
    "\n",
    "In this step, each data point is assigned to its nearest centroid. Calculating distances and finding the smallest values is very easy with `numpy`: you may want to check [`numpy.linalg.norm`](https://numpy.org/doc/stable/reference/generated/numpy.linalg.norm.html) and [`numpy.argmin`](https://numpy.org/doc/stable/reference/generated/numpy.argmin.html).\n",
    "\n",
    "The method `assign_clusters()` should return a dictionary where the keys represent the ids of the *k* cluster ranging from *0* to *k-1*, and each value is a list of indices of the data points belonging to the respective cluster. For example,\n",
    "\n",
    "`\n",
    "clusters = {\n",
    "   0: [2, 4, 6, 8],\n",
    "   1: [0, 1, 5],\n",
    "   2: [3, 7, 9]\n",
    "}\n",
    "`\n",
    "\n",
    "is a clustering with 3 clusters (*k=3*), where the first cluster contains the indices to the 2nd, 4th, 6th and 8th data point in `X`; for this example `X` contains 10 data points overall."
   ]
  },
  {
   "cell_type": "code",
   "execution_count": 8,
   "metadata": {},
   "outputs": [
    {
     "name": "stdout",
     "output_type": "stream",
     "text": [
      "{0: [], 1: [3, 11, 12, 17, 18, 19, 20, 22, 25, 26, 27], 2: [15], 3: [0, 1, 2, 5, 6, 7, 23, 24], 4: [4, 8, 9, 10, 13, 14, 16, 21, 28, 29]}\n"
     ]
    }
   ],
   "source": [
    "def assign_clusters(X, k, centroids):\n",
    "    # Reset all clusters\n",
    "    clusters = {key: [] for key in range(k)}\n",
    "\n",
    "    for idx, x in enumerate(X):\n",
    "        \n",
    "        ### Your code starts here ###############################################################\n",
    "        cluster_id = 0\n",
    "        Temp_array = np.zeros(k)\n",
    "        for i in range(k):\n",
    "            Temp_array[i] = np.linalg.norm(x - centroids[i])\n",
    "            pass\n",
    "        cluster_id = np.argmin(Temp_array)\n",
    "        clusters[cluster_id].append(idx)\n",
    "        ### Your code ends here #################################################################\n",
    "        \n",
    "        # Only there so the empty loop does not throw an error\n",
    "        # (you can remove that once you added your code)\n",
    "        pass\n",
    "\n",
    "    return clusters\n",
    "\n",
    "#\n",
    "# Example format\n",
    "#\n",
    "#clusters = {\n",
    "#   0: [2, 4, 6, 8],\n",
    "#   1: [0, 1, 5],\n",
    "#   2: [3, 7, 9]\n",
    "#}\n",
    "clusters = assign_clusters(X_kmeans, k, centroids)\n",
    "print(clusters)"
   ]
  },
  {
   "cell_type": "markdown",
   "metadata": {},
   "source": [
    "### 1.3 Update of Centroids (5 Points)\n",
    "\n",
    "After the assignment of the data points to clusters, all centroids need to be moved to the average of their respective clusters. Note that the centroids might not change because the assignment made no changes to the clusters and K-Means is done. But we don't have to worry about that here.\n",
    "\n",
    "The method `update_centroids()` should return a list of the same format as the method `init_centroids()`; see above."
   ]
  },
  {
   "cell_type": "code",
   "execution_count": 9,
   "metadata": {},
   "outputs": [
    {
     "name": "stdout",
     "output_type": "stream",
     "text": [
      "[[-5.59888264  3.2171179 ]\n",
      " [-0.9957844   4.13449022]\n",
      " [-3.02742217 -1.29935001]\n",
      " [-1.20893623 -0.30431639]\n",
      " [-6.31800634 -9.60821426]]\n"
     ]
    }
   ],
   "source": [
    "def update_centroids(X, clusters, centroids):\n",
    "    \n",
    "    new_centroids = np.zeros_like(centroids)\n",
    "\n",
    "    ### Your code starts here ###############################################################\n",
    "    for ithcluster in range(len(centroids)):\n",
    "        if(np.size(clusters[ithcluster]) != 0 ):\n",
    "            Temp_centroid = np.mean(X[clusters[ithcluster]], axis = 0)\n",
    "            new_centroids[ithcluster] = Temp_centroid\n",
    "        else:\n",
    "            new_centroids[ithcluster] = centroids[ithcluster]\n",
    "        pass\n",
    "    \n",
    "    ### Your code ends here #################################################################\n",
    "    \n",
    "    return new_centroids\n",
    "\n",
    "\n",
    "# Example format:\n",
    "#\n",
    "# centroids = [ [2.35, -4.02 ], [0.64, 9.77 ], [ -3.50, 2,91 ] ]\n",
    "#\n",
    "centroids = update_centroids(X_kmeans, clusters, centroids)\n",
    "print(centroids)"
   ]
  },
  {
   "cell_type": "markdown",
   "metadata": {},
   "source": [
    "### 1.4 Putting it all together (4 Points)\n",
    "\n",
    "With the initialization of the centroids, the assignment to cluster, and the update of the centroids in place, you can now combine all three steps into a single method to perform K-Means over a dataset X given a choice for k. Don't forget to stop once you found all clusters. There a different ways to do it. However, we recommend to have a look at [`numpy.all`](https://numpy.org/doc/stable/reference/generated/numpy.all.html).\n",
    "\n",
    "The method `kmeans` should return a clustering (same format as `assign_clusters()` and `update_centroids`), as well as the list of centroids after convergence (same format as `init_centroids()`)."
   ]
  },
  {
   "cell_type": "code",
   "execution_count": 10,
   "metadata": {},
   "outputs": [],
   "source": [
    "def kmeans(X, k, max_iter=100, verbose=False):\n",
    "    clusters, num_iterations = {}, 0\n",
    "    \n",
    "    centroids = init_centroids(X, k)\n",
    "\n",
    "    for _ in range(max_iter):\n",
    "        # Update the counter (+1 since we start from 0)\n",
    "        num_iterations = num_iterations + 1\n",
    "        \n",
    "        ### Your code starts here ###############################################################\n",
    "    clusters = assign_clusters(X, k, centroids)\n",
    "    centroids = update_centroids(X, clusters, centroids)\n",
    "    \n",
    "        ### Your code ends here #################################################################\n",
    "    \n",
    "    # Let's print the number of comparison\n",
    "    if verbose is True:\n",
    "        print('K-Means required {} iterations to converge.'.format(num_iterations))\n",
    "    \n",
    "    return clusters, centroids\n",
    "\n",
    "#\n",
    "# Example format\n",
    "#\n",
    "# clusters = {\n",
    "#    0: [2, 4, 6, 8],\n",
    "#    1: [0, 1, 5],\n",
    "#    2: [3, 7, 9]\n",
    "# }\n",
    "#\n",
    "# centroids = [ [2.35, -4.02 ], [0.64, 9.77 ], [ -3.50, 2,91 ] ]"
   ]
  },
  {
   "cell_type": "markdown",
   "metadata": {},
   "source": [
    "### Test your Implementation\n",
    "\n",
    "Run your implementation of K-Means over the generated dataset and visualize the results using the `plot_clusters` method we provide for you. This allows you to check if your implementation is (seemingly) correct -- **important:** note that an unlucky initialization might yield poor result, so you might run K-Means multiple times before you pass judgment on you implementation :).\n",
    "\n",
    "To get a better sense of inner workings, you can generate different datasets (e.g., different number of data points or number of blobs) and see if the results look meaningful"
   ]
  },
  {
   "cell_type": "code",
   "execution_count": 11,
   "metadata": {},
   "outputs": [
    {
     "name": "stdout",
     "output_type": "stream",
     "text": [
      "{0: [4, 8, 9, 10, 13, 14, 16, 21, 28, 29], 1: [1, 3, 11, 12, 17, 18, 19, 20, 22, 25, 26], 2: [0, 2, 5, 6, 7, 15, 23, 24, 27]}\n",
      "[[-6.31800634 -9.60821426]\n",
      " [-0.78983672  4.07443989]\n",
      " [-1.66270405 -0.34148084]]\n",
      "44.82756066626766\n"
     ]
    },
    {
     "data": {
      "image/png": "[encoded data removed]",
      "text/plain": [
       "<Figure size 1000x800 with 1 Axes>"
      ]
     },
     "metadata": {},
     "output_type": "display_data"
    }
   ],
   "source": [
    "clusters, centroids = kmeans(X_kmeans, 3)\n",
    "print(clusters)\n",
    "print(centroids)\n",
    "print(calculate_sse(X_kmeans, clusters, centroids))\n",
    "\n",
    "plot_clusters(X_kmeans, clusters, centroids)"
   ]
  },
  {
   "cell_type": "markdown",
   "metadata": {},
   "source": [
    "### 1.5 Choosing a Good Value for k (5 Points)\n",
    "\n",
    "So far, we generated our own dataset, and we kind of knew how many clusters there are (see `centers` parameter in the method `make_blobs()`. Also all data points had just 2 Euclidian coordinates, so it was easy to plot and inspect the data (see parameter `n_features=2`). In short, it was rather straightforward to pick the best value for k.\n",
    "\n",
    "In practice, we don't know how the data distribution looks like, and we can typically not plot them due to the high(er) number of features. This makes picking a good value for k difficult. In the lecture, you've learned about the \"Elbow Method\" which you will apply in the following on an example dataset.\n",
    "\n",
    "First let's load the data..."
   ]
  },
  {
   "cell_type": "code",
   "execution_count": 15,
   "metadata": {},
   "outputs": [
    {
     "name": "stdout",
     "output_type": "stream",
     "text": [
      "The sample dataset has 1000 data points; each data point has 5 attributes.\n"
     ]
    }
   ],
   "source": [
    "df_kmeans = pd.read_csv('data/kmeans-demo-data.csv', header=None)\n",
    "\n",
    "X_kmeans_highdim = df_kmeans.to_numpy()\n",
    "\n",
    "num_samples, num_dimensions = X_kmeans_highdim.shape\n",
    "\n",
    "print('The sample dataset has {} data points; each data point has {} attributes.'.format(num_samples, num_dimensions))"
   ]
  },
  {
   "cell_type": "markdown",
   "metadata": {},
   "source": [
    "**Task 2.5a) (3 Points)** Implement the method `evaluate_k()` that returns the SSE values for differen choices of k ranging from 2 to `max_k` for a dataset `X`. We provide you with the method `calculate_sse()` to calculate the SSE for clustering."
   ]
  },
  {
   "cell_type": "code",
   "execution_count": 23,
   "metadata": {},
   "outputs": [
    {
     "name": "stdout",
     "output_type": "stream",
     "text": [
      "[[     2.         122958.0329178 ]\n",
      " [     3.          97110.41615107]\n",
      " [     4.          92255.16968194]\n",
      " [     5.          87691.83235206]\n",
      " [     6.          79142.62888568]\n",
      " [     7.          76870.74821452]\n",
      " [     8.          69877.85312023]\n",
      " [     9.          67594.32215896]\n",
      " [    10.          55392.52084012]\n",
      " [    11.          68604.40056674]\n",
      " [    12.          67436.52209464]\n",
      " [    13.          62797.02392748]\n",
      " [    14.          56854.8361285 ]\n",
      " [    15.          58440.65998441]\n",
      " [    16.          54397.76866117]\n",
      " [    17.          53928.85434819]\n",
      " [    18.          54232.60898506]\n",
      " [    19.          52154.50510682]\n",
      " [    20.          48890.21086248]\n",
      " [    21.          50757.25967141]\n",
      " [    22.          52646.53624594]\n",
      " [    23.          50325.81435159]\n",
      " [    24.          51169.61864505]\n",
      " [    25.          52304.82860841]\n",
      " [    26.          50007.40986477]\n",
      " [    27.          46652.10294899]\n",
      " [    28.          47368.61558882]\n",
      " [    29.          47034.1328795 ]\n",
      " [    30.          45159.00021542]]\n"
     ]
    }
   ],
   "source": [
    "def evaluate_k(X, max_k=30):\n",
    "\n",
    "    sse_values = []\n",
    "\n",
    "    for k in range (2, max_k+1):\n",
    "        \n",
    "        ### Your code starts here ###############################################################\n",
    "        #\n",
    "        # Note that the SSE value for each k will depend on the initialization.\n",
    "        # You should there run kmeans2 multiple times (e.g., 10) and record only the lowest sse value\n",
    "        #\n",
    "        temp_sse = float('inf')\n",
    "        for i in range(1, 40):\n",
    "            clusters, centroids = kmeans(X, k)\n",
    "            sse_cluster = calculate_sse(X,clusters, centroids)\n",
    "            if( sse_cluster< temp_sse):\n",
    "                temp_sse = sse_cluster\n",
    "            i = i +1\n",
    "        sse_values.append([k,temp_sse])\n",
    "\n",
    "        ### Your code ends here #################################################################\n",
    "        \n",
    "        # Only there so the empty loop does not throw an error\n",
    "        # (you can remove that once you added your code)\n",
    "        pass\n",
    "        \n",
    "    # Convert to numpy array to make the plotting easier \n",
    "    np.set_printoptions(suppress=True)\n",
    "    sse_values = np.array(sse_values)\n",
    "    \n",
    "    return sse_values\n",
    "\n",
    "\n",
    "# sse_values should contain the lowest SSE value for each k\n",
    "# \n",
    "# Example format: sse_values = [ [2, 1000], [3, 340], [4, 121], ... ]\n",
    "#\n",
    "sse_values = evaluate_k(X_kmeans_highdim)\n",
    "print(sse_values)"
   ]
  },
  {
   "cell_type": "markdown",
   "metadata": {},
   "source": [
    "Let's plot the results"
   ]
  },
  {
   "cell_type": "code",
   "execution_count": 24,
   "metadata": {},
   "outputs": [
    {
     "data": {
      "image/png": "[encoded data removed]",
      "text/plain": [
       "<Figure size 1000x800 with 1 Axes>"
      ]
     },
     "metadata": {
      "needs_background": "light"
     },
     "output_type": "display_data"
    }
   ],
   "source": [
    "# Throws an error if sse_values is empty or does not habe the right format/shape\n",
    "plt.figure()\n",
    "plt.plot(sse_values[:,0], sse_values[:,1])\n",
    "plt.tight_layout()\n",
    "plt.show()"
   ]
  },
  {
   "cell_type": "markdown",
   "metadata": {},
   "source": [
    "**Question 1.5b) (2 Points)**  Which seems to be a suitable value for k? Briefly explain your decision!\n",
    "\n",
    "**Your Answer:** k = 10 seems the most suitable choice. Generally speaking, SSE will decrease as k value increasing. However, the clustering will be meaningless when k becomes too large. To balance the practical meaning of clustering and SSE, I decided to choose k = 10 after running code several times."
   ]
  },
  {
   "cell_type": "markdown",
   "metadata": {},
   "source": []
  },
  {
   "cell_type": "markdown",
   "metadata": {},
   "source": [
    "------------------------------------"
   ]
  },
  {
   "cell_type": "markdown",
   "metadata": {},
   "source": [
    "## 2 Playing the Cluster Algorithms (18 points)\n",
    "\n",
    "DBSCAN and Hierarchical Clustering (AGNES) take arguably some more effort to properly implement. To check your understanding of both algorithms, you will therefore \"manually\" apply DBSCAN and AGNES on two toy datasets."
   ]
  },
  {
   "cell_type": "markdown",
   "metadata": {},
   "source": [
    "### 2.1 DBSCAN\n",
    "\n",
    "In the following, you will show your understanding of DBSCAN by calculating the result of the algorithm over a very simple dataset.\n",
    "\n",
    "First, let's load the data."
   ]
  },
  {
   "cell_type": "code",
   "execution_count": 26,
   "metadata": {},
   "outputs": [
    {
     "name": "stdout",
     "output_type": "stream",
     "text": [
      "[0, 1, 2, 3, 4, 5, 6, 7, 8, 9, 10, 11, 12, 13, 14, 15, 16, 17]\n",
      "18\n"
     ]
    }
   ],
   "source": [
    "df_dbscan = pd.read_csv('data/dbscan-demo-data.csv', header=None)\n",
    "\n",
    "# Convert dataframe with coordinates to numpy array\n",
    "X_dbscan = df_dbscan.to_numpy()\n",
    "# Label all data points from 0 to (N-1), with N = #points\n",
    "labels_dbscan = list(range(X_dbscan.shape[0]))\n",
    "print(labels_dbscan)\n",
    "print(X_dbscan.shape[0])"
   ]
  },
  {
   "cell_type": "markdown",
   "metadata": {},
   "source": [
    "For the upcoming task, you can make your life easier by plotting the data points by the method `plot_labeled_data` that we provide. This method allows you to plot a circle at a coordinate and with a radius of your choice."
   ]
  },
  {
   "cell_type": "code",
   "execution_count": 29,
   "metadata": {},
   "outputs": [
    {
     "data": {
      "image/png": "[encoded data removed]",
      "text/plain": [
       "<Figure size 1000x800 with 1 Axes>"
      ]
     },
     "metadata": {
      "needs_background": "light"
     },
     "output_type": "display_data"
    }
   ],
   "source": [
    "plot_labeled_data(X_dbscan, labels_dbscan, circle_coords=[6,7], circle_radius=1.25)"
   ]
  },
  {
   "cell_type": "markdown",
   "metadata": {},
   "source": [
    "**Task 2.1a) (4 points)** Identify all core, border, noise points after DBSCAN has been applied on the data as shown above with `epsilon=1.25` and `MinPts=4`! The orders of the labels in the 3 lists do not matter\n"
   ]
  },
  {
   "cell_type": "code",
   "execution_count": 38,
   "metadata": {},
   "outputs": [],
   "source": [
    "dbscan_core_points = [1,3,4,6,11]           # Example format: dbscan_core_points = [0, 1, 2, ...]\n",
    "\n",
    "dbscan_border_points = [0,2,5,7,8,10,12,13]         # Example format: dbscan_border_points = [0, 1, 2, ...]\n",
    "\n",
    "dbscan_noise_points = [9,14,15,16,17]          # Example format: dbscan_noise_points = [0, 1, 2, ...]"
   ]
  },
  {
   "cell_type": "markdown",
   "metadata": {},
   "source": [
    "**Task 2.1b) (3 points)** Identify all clusters after DBSCAN has been applied on the data as shown above with `epsilon=1.25` and `MinPts=4`! The result should be a list of clusters, with cluster containing the labels of the data points within the cluster. Note that the orders of the clusters and data points within each cluster do not matter -- that is, \n",
    "\n",
    "`[ [0, 1], [2] ]` and `[ [2], [1, 0] ]` \n",
    "\n",
    "represent the same clustering."
   ]
  },
  {
   "cell_type": "code",
   "execution_count": 40,
   "metadata": {},
   "outputs": [],
   "source": [
    "# Example format\n",
    "#\n",
    "# clustering_dbscan = [ \n",
    "#     [0, 1, 2, ...],\n",
    "#     ...\n",
    "# ]\n",
    "\n",
    "clustering_dbscan = [\n",
    "    [[1,3,4,6,0,2,5,7,8],\n",
    "     [11,10,12,13]\n",
    "    ]\n",
    "]"
   ]
  },
  {
   "cell_type": "markdown",
   "metadata": {},
   "source": [
    "**Question 2.1c) (2 points)** Can you add **2 data points** such that the resulting clustering contains only 1 cluster and no noise? If so, give the coordinates for both points!"
   ]
  },
  {
   "cell_type": "code",
   "execution_count": 50,
   "metadata": {},
   "outputs": [],
   "source": [
    "# Example format\n",
    "#\n",
    "# X_dbscan_extra = [ [x1,y1], [x2, y2] ]\n",
    "\n",
    "\n",
    "X_dbscan_extra = [[3, 5], [7, 6]]  # (keep the empty list if such 2 points do not exist)"
   ]
  },
  {
   "cell_type": "markdown",
   "metadata": {},
   "source": [
    "### 2.2 Hierarchical Cluster (AGNES) (10 Points)\n",
    "\n",
    "In the following, you will show your understanding of Hierarchical Clustering (AGNES) by calculating the result of the algorithm over a very simple dataset.\n",
    "\n",
    "First, let's load the data."
   ]
  },
  {
   "cell_type": "code",
   "execution_count": 51,
   "metadata": {},
   "outputs": [],
   "source": [
    "df_agnes = pd.read_csv('data/agnes-demo-data.csv', header=None)\n",
    "\n",
    "# This dataset has the data points labeled with capital letters\n",
    "labels_agnes = df_agnes[0].to_list()\n",
    "# Convert coordinate columns of the dataframe with coordinates to numpy array\n",
    "X_agnes = df_agnes[[1,2]].to_numpy()"
   ]
  },
  {
   "cell_type": "markdown",
   "metadata": {},
   "source": [
    "For the upcoming task, you can make your life easier by plotting the data points by the method plot_labeled_data that we provide. For your convenience, we show the grid to make the calculation of distances easier."
   ]
  },
  {
   "cell_type": "code",
   "execution_count": 21,
   "metadata": {},
   "outputs": [
    {
     "data": {
      "image/png": "[encoded data removed]",
      "text/plain": [
       "<Figure size 1000x800 with 1 Axes>"
      ]
     },
     "metadata": {
      "needs_background": "light"
     },
     "output_type": "display_data"
    }
   ],
   "source": [
    "plot_labeled_data(X_agnes, labels_agnes, show_grid=True)"
   ]
  },
  {
   "cell_type": "markdown",
   "metadata": {},
   "source": [
    "In the following 2 tasks, perform Hierarchical Clustering (AGNES) step by step on the dataset above. After each step write down the current set of clusters and the value of the shortest distance! \n",
    "\n",
    "* Denote a clusters as a string of the labels of the points forming a cluster. For example, `XYZ` denotes the cluster containing the data points labeled X, Y, and Z -- the order is not important, i.e., clustering `['X', 'YZ']` is equal to `['ZY', 'X']`\n",
    "\n",
    "* For each step, write down the shortest distance between the two clusters merged in each step. Note that the points are conveniently placed to make the calculation of distances pretty straightforward. If needed, round the distances to 2 decimal places (e.g., `sqrt(2) = 1.41`)\n",
    "\n",
    "Below you can see an example:"
   ]
  },
  {
   "cell_type": "code",
   "execution_count": 22,
   "metadata": {},
   "outputs": [],
   "source": [
    "# Example Format\n",
    "#\n",
    "# agnes_clusters = [\n",
    "#     (None, ['X', 'Y', 'Z']),   # At the start, each data point forms a cluster\n",
    "#     (1.22, ['Y', 'XZ']),       # Cluster X and Z where closest with a distance of 1.22\n",
    "#     (2.00, ['XYZ']),           # Cluster XZ and y where closest with a distance of 2.0\n",
    "#     (None, ['XYZ'])            # At the end, all data points are within a single cluster\n",
    "# ]"
   ]
  },
  {
   "cell_type": "markdown",
   "metadata": {},
   "source": [
    "**Task 2.2a) (5 Points)** Perform AGNES step by step using **Single Linkage**!"
   ]
  },
  {
   "cell_type": "code",
   "execution_count": 52,
   "metadata": {},
   "outputs": [],
   "source": [
    "agnes_clusters_single = [\n",
    "    (None, ['A', 'B', 'C', 'D', 'E', 'F', 'G', 'H', 'I']), # At start, each data point forms a cluster\n",
    "    (1,['AD','B', 'C', 'E', 'F', 'G', 'H', 'I']),\n",
    "    (1.41,['AD', 'FH','B', 'C', 'E', 'G', 'I']),\n",
    "    (2,['AD', 'FH','BC', 'E', 'G', 'I']),\n",
    "    (2.24,['AD', 'FH','BC' ,'E','GI']),\n",
    "    (2.83,['ADBC', 'FH', 'E', 'GI']),\n",
    "    (3,['ADBC', 'FHE', 'GI']),\n",
    "    (3.16,['ADBCFHE', 'GI']),\n",
    "    (4.12,['ADBCFHEGI']),\n",
    "    (None, ['ABCDEFGHI'])       # At the end, all data points are within a single cluster\n",
    "]"
   ]
  },
  {
   "cell_type": "markdown",
   "metadata": {},
   "source": [
    "**Task 2.2b) (5 Points)** Perform AGNES step by step using **Complete Linkage**!"
   ]
  },
  {
   "cell_type": "code",
   "execution_count": 53,
   "metadata": {},
   "outputs": [],
   "source": [
    "agnes_clusters_complete = [\n",
    "    (None, ['A', 'B', 'C', 'D', 'E', 'F', 'G', 'H', 'I']), # At start, each data point forms a cluster\n",
    "    (1,['AD','B', 'C', 'E', 'F', 'G', 'H', 'I']),\n",
    "    (1.41,['AD', 'FH','B', 'C', 'E', 'G', 'I']),\n",
    "    (2,['AD', 'FH','BC', 'E', 'G', 'I']),\n",
    "    (2.24,['AD', 'FH','BC' ,'E','GI']),\n",
    "    (3.61,['ADE', 'FH','BC', 'GI']),\n",
    "    (5.83,['ADE', 'FH','BCGI']),\n",
    "    (7.62,['ADEFH','BCGI']),\n",
    "    (9.22,['ADEFHBCGI']),\n",
    "    (None, ['ABCDEFGHI'])       # At the end, all data points are within a single cluster\n",
    "]"
   ]
  },
  {
   "cell_type": "markdown",
   "metadata": {},
   "source": [
    "------------------------------------------------------"
   ]
  },
  {
   "cell_type": "markdown",
   "metadata": {},
   "source": [
    "## 3. Questions (10 Points)\n",
    "\n",
    "K-Means, DBSCAN, and AGNES are rather different in their approach to identify clusters in a dataset. The following set of questions focus on their difference when it comes to applying them in practice. \n",
    "\n",
    "**Questions 3a)-3d) (1 Point each)** expect as answer the set of algorihtms for which the questions is true. Please use `kmeans`, `dbscan` and `agnes` as labels to refer to the 3 algorithms. Example: *\"Which clustering algoritms do to return a hierarchical clustering?\" -- Answer: `['dbscan', 'kmeans']`; the order doesn't matter. If the answer is not true for any algorithm, simply use the empty list `[ ]`.\n",
    "\n",
    "**Question 3e) and 3f) (3 Points each)** expect plain text answers.\n",
    "\n",
    "----------------------------------------------------------------------------------------"
   ]
  },
  {
   "cell_type": "markdown",
   "metadata": {},
   "source": [
    "**Question 3a) (1 Point)** Which clustering algorithms guarantee no empty cluster?"
   ]
  },
  {
   "cell_type": "code",
   "execution_count": 25,
   "metadata": {},
   "outputs": [],
   "source": [
    "q3_a = ['agnes' ]"
   ]
  },
  {
   "cell_type": "markdown",
   "metadata": {},
   "source": [
    "**Question 3b) (1 Point)** Which clustering algorithms return the same set of cluster after the data points -- all values/coordinates in the Euclidean space -- have all been shifted (addition or subtraction) by a constant value?"
   ]
  },
  {
   "cell_type": "code",
   "execution_count": 26,
   "metadata": {},
   "outputs": [],
   "source": [
    "q3_b = ['dbscan','agnes' ]"
   ]
  },
  {
   "cell_type": "markdown",
   "metadata": {},
   "source": [
    "**Question 3c) (1 Point)** Which clustering algorithms return the same set of cluster after the data points -- all values/coordinates in the Euclidean space -- have all been multiplied by a constant factor?"
   ]
  },
  {
   "cell_type": "code",
   "execution_count": 27,
   "metadata": {},
   "outputs": [],
   "source": [
    "q3_c = ['kmeans','agnes']"
   ]
  },
  {
   "cell_type": "markdown",
   "metadata": {},
   "source": [
    "**Question 3d) (1 Point)** Which clustering algorithms generally return different sets of clusters if the data has been normalized/standardized?"
   ]
  },
  {
   "cell_type": "code",
   "execution_count": 28,
   "metadata": {},
   "outputs": [],
   "source": [
    "q3_d = ['kmeans','dbscan','agnes']"
   ]
  },
  {
   "cell_type": "markdown",
   "metadata": {},
   "source": [
    "**Question 3e) (3 Point)** Which clustering algorithms generally return a clusterting that can directly be used to spot potential outliers? Briefly explain for K-Mean, DBSCAN and AGNES, if and how the clustering results can be used to identify outliers."
   ]
  },
  {
   "cell_type": "markdown",
   "metadata": {},
   "source": [
    "**Your answer:**DBSCAN and AGNES. \n",
    "DBSCAN could scan all the points and create clusters based on the neighbors around each point, if suitable parameters are given, all the points which are not included in any cluster could be treated as outliers. \n",
    "AGNES could scan all the points too, and every point will has its cluster at the last because AGNES would merge all the clusters into one. The key AGNES could be used to find outliers is the evaluation of clustering. We could cut the final dendrogram at the best level based on the evaluation of clustering, for example, based on Silhouette value. After cutting the final dendrogram with the best Silhouette value, we could determine that all the clusters whose number of points are less than a pre-set value are outliers."
   ]
  },
  {
   "cell_type": "markdown",
   "metadata": {},
   "source": []
  },
  {
   "cell_type": "markdown",
   "metadata": {},
   "source": [
    "**Question 3f) (3 Points)** Assume your dataset contains the geolocations of all active taxes (busy or on call) in Singapore on a Friday 6pm. Which clustering method(s) you learned in the lectures are most suitable to find stretches with many taxis in the same area? Briefly explain you choices!"
   ]
  },
  {
   "cell_type": "markdown",
   "metadata": {},
   "source": [
    "**Your answer:**DBSCAN is the most suitable method. Because the same area where many taxes locate always means it's an area that is easy to get a business or it's an area with traffic jam. Let's take the former situation as example, those taxes always wait for potential customers with close distance. For example, many taxes always wait in line at the airport exit, which would lead to a high density of the area. In this case, DBSCAN which is a density-based algorithm seems suitable most. Futhermore, DBSCAN is better than AGNES when considering the time cost."
   ]
  },
  {
   "cell_type": "markdown",
   "metadata": {},
   "source": []
  },
  {
   "cell_type": "code",
   "execution_count": null,
   "metadata": {},
   "outputs": [],
   "source": []
  }
 ],
 "metadata": {
  "kernelspec": {
   "display_name": "Python 3",
   "language": "python",
   "name": "python3"
  },
  "language_info": {
   "codemirror_mode": {
    "name": "ipython",
    "version": 3
   },
   "file_extension": ".py",
   "mimetype": "text/x-python",
   "name": "python",
   "nbconvert_exporter": "python",
   "pygments_lexer": "ipython3",
   "version": "3.8.5"
  }
 },
 "nbformat": 4,
 "nbformat_minor": 4
}
